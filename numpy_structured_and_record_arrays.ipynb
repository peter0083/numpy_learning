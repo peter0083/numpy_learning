{
 "cells": [
  {
   "cell_type": "markdown",
   "metadata": {},
   "source": [
    "## Lynda.com\n",
    "numpy essential training: creating structured and record arrays"
   ]
  },
  {
   "cell_type": "markdown",
   "metadata": {},
   "source": [
    "### Creating Structured Arrays"
   ]
  },
  {
   "cell_type": "code",
   "execution_count": 1,
   "metadata": {
    "collapsed": true
   },
   "outputs": [],
   "source": [
    "import numpy as np"
   ]
  },
  {
   "cell_type": "code",
   "execution_count": 3,
   "metadata": {
    "collapsed": false
   },
   "outputs": [
    {
     "data": {
      "text/plain": [
       "[('name', 'S6'), ('height', 'f8'), ('weight', 'f8'), ('age', 'i8')]"
      ]
     },
     "execution_count": 3,
     "metadata": {},
     "output_type": "execute_result"
    }
   ],
   "source": [
    "person_data_def = [('name', 'S6'),('height','f8'),('weight','f8'),('age','i8')]\n",
    "person_data_def\n",
    "# the data def describes an array that has four fields\n",
    "# the first is a string, which is named `name`\n",
    "# the second is a floating point, named `height`\n",
    "# the third is a floating point, named `weight`\n",
    "# the four is an integer, named `age`"
   ]
  },
  {
   "cell_type": "code",
   "execution_count": 4,
   "metadata": {
    "collapsed": true
   },
   "outputs": [],
   "source": [
    "# use np.zeros function to create an array that contains four elements and\n",
    "# has a data type that equals to our person_data_def\n",
    "people_array = np.zeros((4), dtype=person_data_def)"
   ]
  },
  {
   "cell_type": "code",
   "execution_count": 6,
   "metadata": {
    "collapsed": false
   },
   "outputs": [
    {
     "data": {
      "text/plain": [
       "array([(b'', 0.0, 0.0, 0), (b'', 0.0, 0.0, 0), (b'', 0.0, 0.0, 0),\n",
       "       (b'', 0.0, 0.0, 0)], \n",
       "      dtype=[('name', 'S6'), ('height', '<f8'), ('weight', '<f8'), ('age', '<i8')])"
      ]
     },
     "execution_count": 6,
     "metadata": {},
     "output_type": "execute_result"
    }
   ],
   "source": [
    "# to view this people_array\n",
    "people_array\n",
    "# we see that it is now empty\n",
    "# B indicates that it's a string\n",
    "# note that the data type is included and it includes exactly our data definition"
   ]
  },
  {
   "cell_type": "code",
   "execution_count": 7,
   "metadata": {
    "collapsed": true
   },
   "outputs": [],
   "source": [
    "# assign some values to the 4th element in people_array\n",
    "people_array[3] = ('Delta', 73, 205, 34) \n",
    "# Delta as in Alpha, Beta, Charlie, Delta\n",
    "# 73 as 73 inches for height\n",
    "# 205 as 205 lbs for weight\n",
    "# 34 for age\n",
    "# name is a string so 'Delta' needs the parentheses\n",
    "# height, weight = floating point, age = integer so no parentheses"
   ]
  },
  {
   "cell_type": "code",
   "execution_count": 8,
   "metadata": {
    "collapsed": true
   },
   "outputs": [],
   "source": [
    "# assign some values to the first element in people_array\n",
    "people_array[0] = ('Alpha', 65, 12, 23)"
   ]
  },
  {
   "cell_type": "code",
   "execution_count": 10,
   "metadata": {
    "collapsed": false
   },
   "outputs": [
    {
     "data": {
      "text/plain": [
       "array([(b'Alpha', 65.0, 12.0, 23), (b'', 0.0, 0.0, 0), (b'', 0.0, 0.0, 0),\n",
       "       (b'Delta', 73.0, 205.0, 34)], \n",
       "      dtype=[('name', 'S6'), ('height', '<f8'), ('weight', '<f8'), ('age', '<i8')])"
      ]
     },
     "execution_count": 10,
     "metadata": {},
     "output_type": "execute_result"
    }
   ],
   "source": [
    "# now display the array\n",
    "people_array"
   ]
  },
  {
   "cell_type": "code",
   "execution_count": 11,
   "metadata": {
    "collapsed": false
   },
   "outputs": [
    {
     "data": {
      "text/plain": [
       "array([(b'Alpha', 65.0, 12.0, 23), (b'', 0.0, 0.0, 0), (b'', 0.0, 0.0, 0),\n",
       "       (b'Delta', 73.0, 205.0, 34)], \n",
       "      dtype=[('name', 'S6'), ('height', '<f8'), ('weight', '<f8'), ('age', '<i8')])"
      ]
     },
     "execution_count": 11,
     "metadata": {},
     "output_type": "execute_result"
    }
   ],
   "source": [
    "# indexing the structured array\n",
    "people_array[0:] # index zero through the last element"
   ]
  },
  {
   "cell_type": "code",
   "execution_count": 13,
   "metadata": {
    "collapsed": false
   },
   "outputs": [
    {
     "data": {
      "text/plain": [
       "array([23,  0,  0, 34], dtype=int64)"
      ]
     },
     "execution_count": 13,
     "metadata": {},
     "output_type": "execute_result"
    }
   ],
   "source": [
    "# use the names within our structured array for selection at our assignment\n",
    "ages = people_array['age']\n",
    "# instead of using numerical index, I can use a string index\n",
    "ages\n",
    "# the variable ages now has precisely the ages for the elements that we have already assigned"
   ]
  },
  {
   "cell_type": "code",
   "execution_count": 14,
   "metadata": {
    "collapsed": false
   },
   "outputs": [
    {
     "data": {
      "text/plain": [
       "array([ 11.5,   0. ,   0. ,  17. ])"
      ]
     },
     "execution_count": 14,
     "metadata": {},
     "output_type": "execute_result"
    }
   ],
   "source": [
    "# perform arithmetic calculations with arrays\n",
    "make_youthful = ages / 2\n",
    "make_youthful\n",
    "# you should recognize that this operation did NOT change the original ages in the people_array"
   ]
  },
  {
   "cell_type": "markdown",
   "metadata": {},
   "source": [
    "### Multidimensional Structured Arrays"
   ]
  },
  {
   "cell_type": "code",
   "execution_count": 15,
   "metadata": {
    "collapsed": false
   },
   "outputs": [
    {
     "data": {
      "text/plain": [
       "array([[[(b'', 0.0, 0.0, 0), (b'', 0.0, 0.0, 0)],\n",
       "        [(b'', 0.0, 0.0, 0), (b'', 0.0, 0.0, 0)],\n",
       "        [(b'', 0.0, 0.0, 0), (b'', 0.0, 0.0, 0)]],\n",
       "\n",
       "       [[(b'', 0.0, 0.0, 0), (b'', 0.0, 0.0, 0)],\n",
       "        [(b'', 0.0, 0.0, 0), (b'', 0.0, 0.0, 0)],\n",
       "        [(b'', 0.0, 0.0, 0), (b'', 0.0, 0.0, 0)]],\n",
       "\n",
       "       [[(b'', 0.0, 0.0, 0), (b'', 0.0, 0.0, 0)],\n",
       "        [(b'', 0.0, 0.0, 0), (b'', 0.0, 0.0, 0)],\n",
       "        [(b'', 0.0, 0.0, 0), (b'', 0.0, 0.0, 0)]],\n",
       "\n",
       "       [[(b'', 0.0, 0.0, 0), (b'', 0.0, 0.0, 0)],\n",
       "        [(b'', 0.0, 0.0, 0), (b'', 0.0, 0.0, 0)],\n",
       "        [(b'', 0.0, 0.0, 0), (b'', 0.0, 0.0, 0)]]], \n",
       "      dtype=[('name', 'S6'), ('height', '<f8'), ('weight', '<f8'), ('age', '<i8')])"
      ]
     },
     "execution_count": 15,
     "metadata": {},
     "output_type": "execute_result"
    }
   ],
   "source": [
    "people_big_array = np.zeros((4,3,2), dtype=person_data_def)\n",
    "people_big_array"
   ]
  },
  {
   "cell_type": "code",
   "execution_count": 16,
   "metadata": {
    "collapsed": true
   },
   "outputs": [],
   "source": [
    "# assign values using numerical index\n",
    "people_big_array[3, 2, 1] = ('Echo', 68, 155, 46)"
   ]
  },
  {
   "cell_type": "code",
   "execution_count": 17,
   "metadata": {
    "collapsed": false
   },
   "outputs": [
    {
     "data": {
      "text/plain": [
       "array([[[(b'', 0.0, 0.0, 0), (b'', 0.0, 0.0, 0)],\n",
       "        [(b'', 0.0, 0.0, 0), (b'', 0.0, 0.0, 0)],\n",
       "        [(b'', 0.0, 0.0, 0), (b'', 0.0, 0.0, 0)]],\n",
       "\n",
       "       [[(b'', 0.0, 0.0, 0), (b'', 0.0, 0.0, 0)],\n",
       "        [(b'', 0.0, 0.0, 0), (b'', 0.0, 0.0, 0)],\n",
       "        [(b'', 0.0, 0.0, 0), (b'', 0.0, 0.0, 0)]],\n",
       "\n",
       "       [[(b'', 0.0, 0.0, 0), (b'', 0.0, 0.0, 0)],\n",
       "        [(b'', 0.0, 0.0, 0), (b'', 0.0, 0.0, 0)],\n",
       "        [(b'', 0.0, 0.0, 0), (b'', 0.0, 0.0, 0)]],\n",
       "\n",
       "       [[(b'', 0.0, 0.0, 0), (b'', 0.0, 0.0, 0)],\n",
       "        [(b'', 0.0, 0.0, 0), (b'', 0.0, 0.0, 0)],\n",
       "        [(b'', 0.0, 0.0, 0), (b'Echo', 68.0, 155.0, 46)]]], \n",
       "      dtype=[('name', 'S6'), ('height', '<f8'), ('weight', '<f8'), ('age', '<i8')])"
      ]
     },
     "execution_count": 17,
     "metadata": {},
     "output_type": "execute_result"
    }
   ],
   "source": [
    "people_big_array"
   ]
  },
  {
   "cell_type": "code",
   "execution_count": 18,
   "metadata": {
    "collapsed": false
   },
   "outputs": [
    {
     "data": {
      "text/plain": [
       "array([[[  0.,   0.],\n",
       "        [  0.,   0.],\n",
       "        [  0.,   0.]],\n",
       "\n",
       "       [[  0.,   0.],\n",
       "        [  0.,   0.],\n",
       "        [  0.,   0.]],\n",
       "\n",
       "       [[  0.,   0.],\n",
       "        [  0.,   0.],\n",
       "        [  0.,   0.]],\n",
       "\n",
       "       [[  0.,   0.],\n",
       "        [  0.,   0.],\n",
       "        [  0.,  68.]]])"
      ]
     },
     "execution_count": 18,
     "metadata": {},
     "output_type": "execute_result"
    }
   ],
   "source": [
    "# display only 'height'\n",
    "people_big_array['height']"
   ]
  },
  {
   "cell_type": "code",
   "execution_count": 19,
   "metadata": {
    "collapsed": false
   },
   "outputs": [
    {
     "data": {
      "text/plain": [
       "array([[[(0.0, 0.0), (0.0, 0.0)],\n",
       "        [(0.0, 0.0), (0.0, 0.0)],\n",
       "        [(0.0, 0.0), (0.0, 0.0)]],\n",
       "\n",
       "       [[(0.0, 0.0), (0.0, 0.0)],\n",
       "        [(0.0, 0.0), (0.0, 0.0)],\n",
       "        [(0.0, 0.0), (0.0, 0.0)]],\n",
       "\n",
       "       [[(0.0, 0.0), (0.0, 0.0)],\n",
       "        [(0.0, 0.0), (0.0, 0.0)],\n",
       "        [(0.0, 0.0), (0.0, 0.0)]],\n",
       "\n",
       "       [[(0.0, 0.0), (0.0, 0.0)],\n",
       "        [(0.0, 0.0), (0.0, 0.0)],\n",
       "        [(0.0, 0.0), (68.0, 155.0)]]], \n",
       "      dtype=[('height', '<f8'), ('weight', '<f8')])"
      ]
     },
     "execution_count": 19,
     "metadata": {},
     "output_type": "execute_result"
    }
   ],
   "source": [
    "# display both height and weight\n",
    "people_big_array[['height', 'weight']]"
   ]
  },
  {
   "cell_type": "markdown",
   "metadata": {},
   "source": [
    "### Creating Record Arrays"
   ]
  },
  {
   "cell_type": "markdown",
   "metadata": {},
   "source": [
    "Record arrays are structured arrays wrapped using a sub-class of ndarray, called numpy.record array. This wrapping allows field access by attribute on an array object. Record arrays are also using a special data type, a numpy.record, which allows field access by attribute on the individual elements with an array."
   ]
  },
  {
   "cell_type": "code",
   "execution_count": 21,
   "metadata": {
    "collapsed": false
   },
   "outputs": [
    {
     "data": {
      "text/plain": [
       "rec.array([(b'Delta', 73.0, 205.0, 34), (b'Alpha', 65.0, 112.0, 23)], \n",
       "          dtype=[('name', 'S6'), ('height', '<f8'), ('weight', '<f8'), ('age', '<i8')])"
      ]
     },
     "execution_count": 21,
     "metadata": {},
     "output_type": "execute_result"
    }
   ],
   "source": [
    "person_record_array = np.rec.array([('Delta', 73, 205, 34), ('Alpha', 65, 112, 23)], dtype=person_data_def)\n",
    "person_record_array"
   ]
  },
  {
   "cell_type": "code",
   "execution_count": 22,
   "metadata": {
    "collapsed": false
   },
   "outputs": [
    {
     "data": {
      "text/plain": [
       "34"
      ]
     },
     "execution_count": 22,
     "metadata": {},
     "output_type": "execute_result"
    }
   ],
   "source": [
    "# you can use an attribute in a record array to display values instead of an index\n",
    "person_record_array[0].age # display the attribute 'age' for the first record "
   ]
  },
  {
   "cell_type": "markdown",
   "metadata": {},
   "source": [
    "Structured and record arrays are designed for heterogeneous data"
   ]
  }
 ],
 "metadata": {
  "anaconda-cloud": {},
  "kernelspec": {
   "display_name": "Python [conda root]",
   "language": "python",
   "name": "conda-root-py"
  },
  "language_info": {
   "codemirror_mode": {
    "name": "ipython",
    "version": 3
   },
   "file_extension": ".py",
   "mimetype": "text/x-python",
   "name": "python",
   "nbconvert_exporter": "python",
   "pygments_lexer": "ipython3",
   "version": "3.5.2"
  }
 },
 "nbformat": 4,
 "nbformat_minor": 0
}
