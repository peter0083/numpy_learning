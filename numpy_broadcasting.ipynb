{
 "cells": [
  {
   "cell_type": "markdown",
   "metadata": {},
   "source": [
    "## Lynda.com\n",
    "Numpy broadcasting"
   ]
  },
  {
   "cell_type": "code",
   "execution_count": 1,
   "metadata": {
    "collapsed": true
   },
   "outputs": [],
   "source": [
    "import numpy as np"
   ]
  },
  {
   "cell_type": "code",
   "execution_count": 3,
   "metadata": {
    "collapsed": false
   },
   "outputs": [
    {
     "data": {
      "text/plain": [
       "array([[[ 0,  1,  2,  3,  4],\n",
       "        [ 5,  6,  7,  8,  9],\n",
       "        [10, 11, 12, 13, 14],\n",
       "        [15, 16, 17, 18, 19],\n",
       "        [20, 21, 22, 23, 24],\n",
       "        [25, 26, 27, 28, 29],\n",
       "        [30, 31, 32, 33, 34]],\n",
       "\n",
       "       [[35, 36, 37, 38, 39],\n",
       "        [40, 41, 42, 43, 44],\n",
       "        [45, 46, 47, 48, 49],\n",
       "        [50, 51, 52, 53, 54],\n",
       "        [55, 56, 57, 58, 59],\n",
       "        [60, 61, 62, 63, 64],\n",
       "        [65, 66, 67, 68, 69]]])"
      ]
     },
     "execution_count": 3,
     "metadata": {},
     "output_type": "execute_result"
    }
   ],
   "source": [
    "my_3D_array = np.arange(70) # create a 1D array with elements from 0 to 69.\n",
    "my_3D_array.shape = (2, 7, 5) \n",
    "# reshape it into two 2D arrays with 7 rows and 5 columns each\n",
    "my_3D_array"
   ]
  },
  {
   "cell_type": "markdown",
   "metadata": {},
   "source": [
    "Broadcasting describes how numpy performs operations between arrays with differnt sizes.\n",
    "Numpy requires that arrays be compatible before broadcasting can take place. In this context, compatible means that the sizes are the same or at least one of the sizes is equal to zero.\n",
    "Thus, we need to know the attributes of the arrays before we can do broadcasting correctly.\n",
    "\n",
    "Attributes of numpy arrays\n",
    "- shapes\n",
    "- number of dimensions\n",
    "- sizes\n",
    "- data types"
   ]
  },
  {
   "cell_type": "code",
   "execution_count": 4,
   "metadata": {
    "collapsed": false
   },
   "outputs": [
    {
     "data": {
      "text/plain": [
       "(2, 7, 5)"
      ]
     },
     "execution_count": 4,
     "metadata": {},
     "output_type": "execute_result"
    }
   ],
   "source": [
    "# first, let's check the shape\n",
    "my_3D_array.shape # exactly the same as we specified. no surprise"
   ]
  },
  {
   "cell_type": "code",
   "execution_count": 5,
   "metadata": {
    "collapsed": false
   },
   "outputs": [
    {
     "data": {
      "text/plain": [
       "3"
      ]
     },
     "execution_count": 5,
     "metadata": {},
     "output_type": "execute_result"
    }
   ],
   "source": [
    "# check the number of dimensions\n",
    "# when we are coding programmatically instead of interactively, \n",
    "# we have to be able to access this information programmatically\n",
    "my_3D_array.ndim"
   ]
  },
  {
   "cell_type": "code",
   "execution_count": 6,
   "metadata": {
    "collapsed": false
   },
   "outputs": [
    {
     "data": {
      "text/plain": [
       "70"
      ]
     },
     "execution_count": 6,
     "metadata": {},
     "output_type": "execute_result"
    }
   ],
   "source": [
    "# check the size (number of elements) in the array\n",
    "my_3D_array.size"
   ]
  },
  {
   "cell_type": "code",
   "execution_count": 7,
   "metadata": {
    "collapsed": false
   },
   "outputs": [
    {
     "data": {
      "text/plain": [
       "dtype('int32')"
      ]
     },
     "execution_count": 7,
     "metadata": {},
     "output_type": "execute_result"
    }
   ],
   "source": [
    "# check the data type for each element\n",
    "my_3D_array.dtype\n",
    "# note that the dtype for the elements is 32-bit integer but the dtype for the array is ndarray"
   ]
  },
  {
   "cell_type": "code",
   "execution_count": 8,
   "metadata": {
    "collapsed": false
   },
   "outputs": [
    {
     "data": {
      "text/plain": [
       "array([[[ -2,   3,   8,  13,  18],\n",
       "        [ 23,  28,  33,  38,  43],\n",
       "        [ 48,  53,  58,  63,  68],\n",
       "        [ 73,  78,  83,  88,  93],\n",
       "        [ 98, 103, 108, 113, 118],\n",
       "        [123, 128, 133, 138, 143],\n",
       "        [148, 153, 158, 163, 168]],\n",
       "\n",
       "       [[173, 178, 183, 188, 193],\n",
       "        [198, 203, 208, 213, 218],\n",
       "        [223, 228, 233, 238, 243],\n",
       "        [248, 253, 258, 263, 268],\n",
       "        [273, 278, 283, 288, 293],\n",
       "        [298, 303, 308, 313, 318],\n",
       "        [323, 328, 333, 338, 343]]])"
      ]
     },
     "execution_count": 8,
     "metadata": {},
     "output_type": "execute_result"
    }
   ],
   "source": [
    "# broadcasting using scaler\n",
    "5 * my_3D_array -2 # multiply each element by 5 then subtract by 2\n",
    "# this operation is compatible because numpy treats scalars as having a size equal to one"
   ]
  },
  {
   "cell_type": "code",
   "execution_count": 10,
   "metadata": {
    "collapsed": true
   },
   "outputs": [],
   "source": [
    "# creating two numpy arrays\n",
    "left_matrix = np.arange(6).reshape((2,3)) \n",
    "# a 2D array of 2 rows and 3 columns with elements 0 to 5\n",
    "right_matrix = np.arange(15).reshape((3,5))\n",
    "# a 2D array of 3 rows and 5 columns with elements from 0 to 15.\n",
    "\n",
    "# note: even though these variables are named as matrices, \n",
    "# they are actually just ordinary ndarrays.\n",
    "# matrices are a specific type within numpy"
   ]
  },
  {
   "cell_type": "code",
   "execution_count": 11,
   "metadata": {
    "collapsed": false
   },
   "outputs": [
    {
     "ename": "ValueError",
     "evalue": "shapes (2,3) and (5,3) not aligned: 3 (dim 1) != 5 (dim 0)",
     "output_type": "error",
     "traceback": [
      "\u001b[1;31m---------------------------------------------------------------------------\u001b[0m",
      "\u001b[1;31mValueError\u001b[0m                                Traceback (most recent call last)",
      "\u001b[1;32m<ipython-input-11-b84a0b6ac40c>\u001b[0m in \u001b[0;36m<module>\u001b[1;34m()\u001b[0m\n\u001b[1;32m----> 1\u001b[1;33m \u001b[0mnp\u001b[0m\u001b[1;33m.\u001b[0m\u001b[0minner\u001b[0m\u001b[1;33m(\u001b[0m\u001b[0mleft_matrix\u001b[0m\u001b[1;33m,\u001b[0m \u001b[0mright_matrix\u001b[0m\u001b[1;33m)\u001b[0m\u001b[1;33m\u001b[0m\u001b[0m\n\u001b[0m\u001b[0;32m      2\u001b[0m \u001b[1;31m# inner product of left_matrix and right_matrix yields an error\u001b[0m\u001b[1;33m\u001b[0m\u001b[1;33m\u001b[0m\u001b[0m\n\u001b[0;32m      3\u001b[0m \u001b[1;31m# in linear algebra, if you multiply a 2-by-3 matrix and a 3-by-5 matrix, you will obtain\u001b[0m\u001b[1;33m\u001b[0m\u001b[1;33m\u001b[0m\u001b[0m\n\u001b[0;32m      4\u001b[0m \u001b[1;31m# a result that is a 2-by-5 matrix. However, if we use Numpy's function, it tells us that\u001b[0m\u001b[1;33m\u001b[0m\u001b[1;33m\u001b[0m\u001b[0m\n\u001b[0;32m      5\u001b[0m \u001b[1;31m# the shapes are not aligned.\u001b[0m\u001b[1;33m\u001b[0m\u001b[1;33m\u001b[0m\u001b[0m\n",
      "\u001b[1;31mValueError\u001b[0m: shapes (2,3) and (5,3) not aligned: 3 (dim 1) != 5 (dim 0)"
     ]
    }
   ],
   "source": [
    "np.inner(left_matrix, right_matrix)\n",
    "# inner product of left_matrix and right_matrix yields an error\n",
    "# in linear algebra, if you multiply a 2-by-3 matrix and a 3-by-5 matrix, you will obtain\n",
    "# a result that is a 2-by-5 matrix. However, if we use Numpy's function, it tells us that\n",
    "# the shapes are not aligned.\n",
    "\n",
    "# from Numpy inner product function documentation,  \n",
    "# it tells us that we obtain the ordinary inner product\n",
    "# of vectors for one-dimensional arrays. In higher dimensions, a sum product over the last axes."
   ]
  },
  {
   "cell_type": "code",
   "execution_count": 13,
   "metadata": {
    "collapsed": false
   },
   "outputs": [
    {
     "data": {
      "text/plain": [
       "array([[ 25,  28,  31,  34,  37],\n",
       "       [ 70,  82,  94, 106, 118]])"
      ]
     },
     "execution_count": 13,
     "metadata": {},
     "output_type": "execute_result"
    }
   ],
   "source": [
    "# we should use the numpy dot product function.\n",
    "# numpy dot product function gives us the anticipated result.\n",
    "np.dot(left_matrix, right_matrix)\n",
    "# the numpy dot product documentation says that\n",
    "# for 2D arrays, it is equivalent to matrix multiplication\n",
    "# for 1D arrays it is equivalent to the inner product of vectors\n",
    "# For ND arrays, it is a sum product over the last axis of a and the second-to-last of b"
   ]
  },
  {
   "cell_type": "markdown",
   "metadata": {},
   "source": [
    "*** Take-home lesson: check numpy documentations carefully before you perform complex operations ***"
   ]
  },
  {
   "cell_type": "markdown",
   "metadata": {},
   "source": [
    "### Operations along axes"
   ]
  },
  {
   "cell_type": "code",
   "execution_count": 15,
   "metadata": {
    "collapsed": false
   },
   "outputs": [
    {
     "data": {
      "text/plain": [
       "2415"
      ]
     },
     "execution_count": 15,
     "metadata": {},
     "output_type": "execute_result"
    }
   ],
   "source": [
    "my_3D_array.sum() # sum up all the elements in the array"
   ]
  },
  {
   "cell_type": "code",
   "execution_count": 17,
   "metadata": {
    "collapsed": false
   },
   "outputs": [
    {
     "data": {
      "text/plain": [
       "2415.0"
      ]
     },
     "execution_count": 17,
     "metadata": {},
     "output_type": "execute_result"
    }
   ],
   "source": [
    "# use Gauss' formula to calculate the sum of 70 elements from 0 to 69\n",
    "(69 * 70)/2\n",
    "# note that the output is a floating number"
   ]
  },
  {
   "cell_type": "code",
   "execution_count": 18,
   "metadata": {
    "collapsed": false
   },
   "outputs": [
    {
     "data": {
      "text/plain": [
       "array([[ 35,  37,  39,  41,  43],\n",
       "       [ 45,  47,  49,  51,  53],\n",
       "       [ 55,  57,  59,  61,  63],\n",
       "       [ 65,  67,  69,  71,  73],\n",
       "       [ 75,  77,  79,  81,  83],\n",
       "       [ 85,  87,  89,  91,  93],\n",
       "       [ 95,  97,  99, 101, 103]])"
      ]
     },
     "execution_count": 18,
     "metadata": {},
     "output_type": "execute_result"
    }
   ],
   "source": [
    "my_3D_array.sum(axis=0)\n",
    "# sum along the zero axis\n",
    "# for example 35 = 0 + 35\n",
    "# 37 = 1 + 36\n",
    "# 39 = 2 + 37\n",
    "# elementwise addtion of the two 2D arrays "
   ]
  },
  {
   "cell_type": "code",
   "execution_count": 19,
   "metadata": {
    "collapsed": false
   },
   "outputs": [
    {
     "data": {
      "text/plain": [
       "array([[105, 112, 119, 126, 133],\n",
       "       [350, 357, 364, 371, 378]])"
      ]
     },
     "execution_count": 19,
     "metadata": {},
     "output_type": "execute_result"
    }
   ],
   "source": [
    "my_3D_array.sum(axis=1)\n",
    "# for example, the 105 is a sum along the axis 30+25+20+15+10+5+0=105"
   ]
  },
  {
   "cell_type": "code",
   "execution_count": 20,
   "metadata": {
    "collapsed": false
   },
   "outputs": [
    {
     "data": {
      "text/plain": [
       "array([[ 10,  35,  60,  85, 110, 135, 160],\n",
       "       [185, 210, 235, 260, 285, 310, 335]])"
      ]
     },
     "execution_count": 20,
     "metadata": {},
     "output_type": "execute_result"
    }
   ],
   "source": [
    "my_3D_array.sum(axis=2)\n",
    "# for example the 10 is a sum along the axis 0+1+2+3+4=10"
   ]
  },
  {
   "cell_type": "markdown",
   "metadata": {},
   "source": [
    "Notice how the shape attribute affects broadcasting along an axis. \n",
    "- If we broadcast along the zero axis, we eliminate the zero element in the shape attribute. The result is 7 rows by 5 columns. (2,7,5) -> (7,5)\n",
    "- If we broadcast along the one axis, we eliminate the one element and the result is 2 rows by 5 columns. (2,7,5)->(2,5) \n",
    "- If we broadcast along the two axis, we eliminate the zeroth element and the result is 2 rows by 7 columns. (2,7,5)->(2,7)"
   ]
  },
  {
   "cell_type": "markdown",
   "metadata": {},
   "source": [
    "### Broadcasting rules\n",
    "Numpy documentation tells us that the smaller array is broadcast across the larger array so that they have compatible shapes."
   ]
  },
  {
   "cell_type": "code",
   "execution_count": 21,
   "metadata": {
    "collapsed": false
   },
   "outputs": [
    {
     "data": {
      "text/plain": [
       "array([[3, 3, 3, 3, 3],\n",
       "       [3, 3, 3, 3, 3],\n",
       "       [3, 3, 3, 3, 3],\n",
       "       [3, 3, 3, 3, 3],\n",
       "       [3, 3, 3, 3, 3],\n",
       "       [3, 3, 3, 3, 3],\n",
       "       [3, 3, 3, 3, 3]])"
      ]
     },
     "execution_count": 21,
     "metadata": {},
     "output_type": "execute_result"
    }
   ],
   "source": [
    "my_2D_array = np.ones(35, dtype='int_').reshape((7,5))*3\n",
    "# create a 1D array of 35 ones and reshape it into 2D as 7 rows and 5 columns\n",
    "# then multiply all elements by 3\n",
    "my_2D_array"
   ]
  },
  {
   "cell_type": "code",
   "execution_count": 22,
   "metadata": {
    "collapsed": true
   },
   "outputs": [],
   "source": [
    "my_random_2D_array = np.random.random((7,5))\n",
    "# create a 1D array of 35 random numbers and reshape it into 2D as 7 rows and 5 columns"
   ]
  },
  {
   "cell_type": "code",
   "execution_count": 23,
   "metadata": {
    "collapsed": false
   },
   "outputs": [
    {
     "data": {
      "text/plain": [
       "array([[[  0.    ,   0.805 ,   1.8353,   0.4801,   3.899 ],\n",
       "        [  4.9297,   3.9097,   4.9651,   1.4783,   2.5223],\n",
       "        [  5.7924,   0.9991,   9.2228,   2.5809,   8.6615],\n",
       "        [  7.2541,   5.8767,   7.1   ,  13.3775,  16.8187],\n",
       "        [ 15.3088,   8.1106,   0.4207,   3.387 ,  13.2661],\n",
       "        [ 21.19  ,  13.8113,  17.313 ,  22.7997,   0.1136],\n",
       "        [  8.5604,  26.0245,  14.6895,  12.6039,  12.7265]],\n",
       "\n",
       "       [[ 12.8816,  28.9784,  33.9526,   6.0816,  38.0149],\n",
       "        [ 39.4378,  26.7162,  29.7905,   7.9459,  12.3311],\n",
       "        [ 26.0658,   4.1781,  36.1225,   9.5294,  30.3152],\n",
       "        [ 24.1802,  18.7319,  21.7177,  39.3892,  47.8005],\n",
       "        [ 42.0993,  21.6282,   1.0899,   8.5411,  32.6125],\n",
       "        [ 50.8561,  32.4035,  39.7558,  51.2993,   0.2506],\n",
       "        [ 18.5475,  55.407 ,  30.7562,  25.9716,  25.8273]]])"
      ]
     },
     "execution_count": 23,
     "metadata": {},
     "output_type": "execute_result"
    }
   ],
   "source": [
    "np.set_printoptions(precision=4) # use set_printoptions function to specify the floating point\n",
    "# to 4 decimal places\n",
    "my_3D_array * my_random_2D_array\n",
    "# the broadcasting rule is satisfied so no error message"
   ]
  },
  {
   "cell_type": "code",
   "execution_count": 24,
   "metadata": {
    "collapsed": false
   },
   "outputs": [
    {
     "data": {
      "text/plain": [
       "array([[2, 2, 2, 2, 2, 2, 2, 2],\n",
       "       [2, 2, 2, 2, 2, 2, 2, 2],\n",
       "       [2, 2, 2, 2, 2, 2, 2, 2],\n",
       "       [2, 2, 2, 2, 2, 2, 2, 2],\n",
       "       [2, 2, 2, 2, 2, 2, 2, 2],\n",
       "       [2, 2, 2, 2, 2, 2, 2, 2],\n",
       "       [2, 2, 2, 2, 2, 2, 2, 2],\n",
       "       [2, 2, 2, 2, 2, 2, 2, 2]])"
      ]
     },
     "execution_count": 24,
     "metadata": {},
     "output_type": "execute_result"
    }
   ],
   "source": [
    "bad_2D_array = np.ones(64, dtype='int_').reshape((8,8))*2\n",
    "# create a 1D array of 64 ones and reshape it into 2D as 8 rows and 8 columns\n",
    "# then multiply all elements by 2\n",
    "bad_2D_array"
   ]
  },
  {
   "cell_type": "code",
   "execution_count": 25,
   "metadata": {
    "collapsed": false
   },
   "outputs": [
    {
     "ename": "ValueError",
     "evalue": "operands could not be broadcast together with shapes (8,8) (2,7,5) ",
     "output_type": "error",
     "traceback": [
      "\u001b[1;31m---------------------------------------------------------------------------\u001b[0m",
      "\u001b[1;31mValueError\u001b[0m                                Traceback (most recent call last)",
      "\u001b[1;32m<ipython-input-25-ef2c2631007b>\u001b[0m in \u001b[0;36m<module>\u001b[1;34m()\u001b[0m\n\u001b[1;32m----> 1\u001b[1;33m \u001b[0mbad_2D_array\u001b[0m \u001b[1;33m*\u001b[0m \u001b[0mmy_3D_array\u001b[0m\u001b[1;33m\u001b[0m\u001b[0m\n\u001b[0m",
      "\u001b[1;31mValueError\u001b[0m: operands could not be broadcast together with shapes (8,8) (2,7,5) "
     ]
    }
   ],
   "source": [
    "bad_2D_array * my_3D_array\n",
    "# incompatible shapes ..."
   ]
  },
  {
   "cell_type": "code",
   "execution_count": 26,
   "metadata": {
    "collapsed": false
   },
   "outputs": [
    {
     "data": {
      "text/plain": [
       "array([[2, 2, 2, 2, 2, 2, 2],\n",
       "       [2, 2, 2, 2, 2, 2, 2]])"
      ]
     },
     "execution_count": 26,
     "metadata": {},
     "output_type": "execute_result"
    }
   ],
   "source": [
    "bad_2D_array_1 = np.ones(14, dtype='int_').reshape((2,7))*2\n",
    "bad_2D_array_1"
   ]
  },
  {
   "cell_type": "code",
   "execution_count": 27,
   "metadata": {
    "collapsed": false
   },
   "outputs": [
    {
     "ename": "ValueError",
     "evalue": "operands could not be broadcast together with shapes (2,7) (2,7,5) ",
     "output_type": "error",
     "traceback": [
      "\u001b[1;31m---------------------------------------------------------------------------\u001b[0m",
      "\u001b[1;31mValueError\u001b[0m                                Traceback (most recent call last)",
      "\u001b[1;32m<ipython-input-27-297d9fa79e6b>\u001b[0m in \u001b[0;36m<module>\u001b[1;34m()\u001b[0m\n\u001b[1;32m----> 1\u001b[1;33m \u001b[0mbad_2D_array_1\u001b[0m \u001b[1;33m*\u001b[0m \u001b[0mmy_3D_array\u001b[0m\u001b[1;33m\u001b[0m\u001b[0m\n\u001b[0m",
      "\u001b[1;31mValueError\u001b[0m: operands could not be broadcast together with shapes (2,7) (2,7,5) "
     ]
    }
   ],
   "source": [
    "bad_2D_array_1 * my_3D_array\n",
    "# incompatible shapes ..."
   ]
  },
  {
   "cell_type": "code",
   "execution_count": null,
   "metadata": {
    "collapsed": true
   },
   "outputs": [],
   "source": []
  }
 ],
 "metadata": {
  "anaconda-cloud": {},
  "kernelspec": {
   "display_name": "Python [conda root]",
   "language": "python",
   "name": "conda-root-py"
  },
  "language_info": {
   "codemirror_mode": {
    "name": "ipython",
    "version": 3
   },
   "file_extension": ".py",
   "mimetype": "text/x-python",
   "name": "python",
   "nbconvert_exporter": "python",
   "pygments_lexer": "ipython3",
   "version": "3.5.2"
  }
 },
 "nbformat": 4,
 "nbformat_minor": 0
}
