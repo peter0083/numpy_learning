{
 "cells": [
  {
   "cell_type": "markdown",
   "metadata": {},
   "source": [
    "## Lynda.com\n",
    "numpy essential training: matplotlib ticks, marks, labels and grids"
   ]
  },
  {
   "cell_type": "code",
   "execution_count": 14,
   "metadata": {
    "collapsed": true
   },
   "outputs": [],
   "source": [
    "%matplotlib inline"
   ]
  },
  {
   "cell_type": "code",
   "execution_count": 15,
   "metadata": {
    "collapsed": true
   },
   "outputs": [],
   "source": [
    "import numpy as np\n",
    "import matplotlib.pyplot as plt"
   ]
  },
  {
   "cell_type": "code",
   "execution_count": 21,
   "metadata": {
    "collapsed": false
   },
   "outputs": [
    {
     "data": {
      "image/png": "[encoded data removed]",
      "text/plain": [
       "<matplotlib.figure.Figure at 0xf7b7027898>"
      ]
     },
     "metadata": {},
     "output_type": "display_data"
    }
   ],
   "source": [
    "number_of_data_points = 1000\n",
    "\n",
    "my_figure = plt.figure()\n",
    "subplot_1 = my_figure.add_subplot(1, 1, 1) # only one subplot within our figure\n",
    "subplot_1.plot(np.random.rand(number_of_data_points).cumsum())\n",
    "# generate random data points and take the cumulative sum\n",
    "\n",
    "number_of_ticks = 5\n",
    "ticks = np.arange(0, number_of_data_points, number_of_data_points//number_of_ticks)\n",
    "# create the ticks\n",
    "# double slashes // are for integer division\n",
    "subplot_1.set_xticks(ticks) # add the ticks to our plot\n",
    "\n",
    "labels = subplot_1.set_xticklabels(['one', 'two', 'three', 'four', 'five'], \n",
    "                                   rotation=45, # rotate each label by 45 degrees\n",
    "                                   fontsize='small')\n",
    "\n",
    "subplot_1.set_title('My First Ticked Plot')\n",
    "subplot_1.set_xlabel(\"Groups\")\n",
    "subplot_1.set_ylabel(\"Cumulative Sum\")\n",
    "\n",
    "subplot_1.grid(True)\n",
    "gridlines = subplot_1.get_xgridlines() + subplot_1.get_ygridlines()\n",
    "# concatenate the x gridline and the y gridline\n",
    "for line in gridlines:\n",
    "    line.set_linestyle(':')\n",
    "    # for each line in the gridlines, set the line style to dotted line\n",
    "plt.show()"
   ]
  },
  {
   "cell_type": "markdown",
   "metadata": {},
   "source": [
    "Line styles for grid lines\n",
    "- single - solid line\n",
    "- -- dashed line\n",
    "- -. dash dot line\n",
    "- : dotted line"
   ]
  },
  {
   "cell_type": "markdown",
   "metadata": {},
   "source": [
    "More info available here: http://matplotlib.org/api/lines_api"
   ]
  }
 ],
 "metadata": {
  "kernelspec": {
   "display_name": "Python [conda root]",
   "language": "python",
   "name": "conda-root-py"
  },
  "language_info": {
   "codemirror_mode": {
    "name": "ipython",
    "version": 3
   },
   "file_extension": ".py",
   "mimetype": "text/x-python",
   "name": "python",
   "nbconvert_exporter": "python",
   "pygments_lexer": "ipython3",
   "version": "3.5.2"
  }
 },
 "nbformat": 4,
 "nbformat_minor": 0
}
