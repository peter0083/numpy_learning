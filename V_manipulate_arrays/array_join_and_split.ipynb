{
 "cells": [
  {
   "cell_type": "markdown",
   "metadata": {},
   "source": [
    "## Lynda.com\n",
    "numpy essential training: manipulate arrays - joining and splitting"
   ]
  },
  {
   "cell_type": "markdown",
   "metadata": {},
   "source": [
    "### Joining and splitting arrays\n",
    "- concatenante\n",
    "- stack\n",
    "- split"
   ]
  },
  {
   "cell_type": "code",
   "execution_count": 14,
   "metadata": {
    "collapsed": true
   },
   "outputs": [],
   "source": [
    "import numpy as np"
   ]
  },
  {
   "cell_type": "markdown",
   "metadata": {},
   "source": [
    "### Concatenate"
   ]
  },
  {
   "cell_type": "code",
   "execution_count": 15,
   "metadata": {
    "collapsed": false
   },
   "outputs": [
    {
     "data": {
      "text/plain": [
       "array([[1, 2],\n",
       "       [3, 4]])"
      ]
     },
     "execution_count": 15,
     "metadata": {},
     "output_type": "execute_result"
    }
   ],
   "source": [
    "a = np.array([[1, 2], [3, 4]])\n",
    "b = np.array([[5, 6]])\n",
    "a"
   ]
  },
  {
   "cell_type": "code",
   "execution_count": 16,
   "metadata": {
    "collapsed": false
   },
   "outputs": [
    {
     "data": {
      "text/plain": [
       "array([[5, 6]])"
      ]
     },
     "execution_count": 16,
     "metadata": {},
     "output_type": "execute_result"
    }
   ],
   "source": [
    "b"
   ]
  },
  {
   "cell_type": "code",
   "execution_count": 17,
   "metadata": {
    "collapsed": true
   },
   "outputs": [],
   "source": [
    "together = np.concatenate((a, b), axis=0)\n",
    "# first parameter: a tuple which contains the arrays to be concatenated\n",
    "# second parameter: specifies the axis for concatenation"
   ]
  },
  {
   "cell_type": "code",
   "execution_count": 18,
   "metadata": {
    "collapsed": false
   },
   "outputs": [
    {
     "data": {
      "text/plain": [
       "array([[1, 2],\n",
       "       [3, 4],\n",
       "       [5, 6]])"
      ]
     },
     "execution_count": 18,
     "metadata": {},
     "output_type": "execute_result"
    }
   ],
   "source": [
    "together"
   ]
  },
  {
   "cell_type": "code",
   "execution_count": 19,
   "metadata": {
    "collapsed": false
   },
   "outputs": [
    {
     "data": {
      "text/plain": [
       "(3, 2)"
      ]
     },
     "execution_count": 19,
     "metadata": {},
     "output_type": "execute_result"
    }
   ],
   "source": [
    "together.shape"
   ]
  },
  {
   "cell_type": "code",
   "execution_count": 20,
   "metadata": {
    "collapsed": true
   },
   "outputs": [],
   "source": [
    "# let's assign a new value in the array \"together\"\n",
    "together[1,1]= 555"
   ]
  },
  {
   "cell_type": "code",
   "execution_count": 21,
   "metadata": {
    "collapsed": false
   },
   "outputs": [
    {
     "data": {
      "text/plain": [
       "array([[  1,   2],\n",
       "       [  3, 555],\n",
       "       [  5,   6]])"
      ]
     },
     "execution_count": 21,
     "metadata": {},
     "output_type": "execute_result"
    }
   ],
   "source": [
    "# display together again\n",
    "together"
   ]
  },
  {
   "cell_type": "code",
   "execution_count": 22,
   "metadata": {
    "collapsed": false
   },
   "outputs": [
    {
     "data": {
      "text/plain": [
       "array([[1, 2],\n",
       "       [3, 4]])"
      ]
     },
     "execution_count": 22,
     "metadata": {},
     "output_type": "execute_result"
    }
   ],
   "source": [
    "# check and see if \"together\" is a view or copy of the original array 'a'\n",
    "a\n",
    "# a is not affected\n",
    "# thus, 'together' is a copy of the original arrays 'a' and 'c'"
   ]
  },
  {
   "cell_type": "code",
   "execution_count": 23,
   "metadata": {
    "collapsed": false
   },
   "outputs": [
    {
     "data": {
      "text/plain": [
       "array([[ 8, 11],\n",
       "       [14, 17]])"
      ]
     },
     "execution_count": 23,
     "metadata": {},
     "output_type": "execute_result"
    }
   ],
   "source": [
    "# let's evaluate the impact on the function 'concatenate''s axis parameter\n",
    "c = np.array([[1, 2], [3, 4]]) *3 + 5\n",
    "c"
   ]
  },
  {
   "cell_type": "code",
   "execution_count": 24,
   "metadata": {
    "collapsed": false
   },
   "outputs": [
    {
     "data": {
      "text/plain": [
       "array([[ 1,  2,  8, 11],\n",
       "       [ 3,  4, 14, 17]])"
      ]
     },
     "execution_count": 24,
     "metadata": {},
     "output_type": "execute_result"
    }
   ],
   "source": [
    "np.concatenate((a, c), axis=1)"
   ]
  },
  {
   "cell_type": "code",
   "execution_count": 25,
   "metadata": {
    "collapsed": false
   },
   "outputs": [
    {
     "ename": "IndexError",
     "evalue": "axis 2 out of bounds [0, 2)",
     "output_type": "error",
     "traceback": [
      "\u001b[1;31m---------------------------------------------------------------------------\u001b[0m",
      "\u001b[1;31mIndexError\u001b[0m                                Traceback (most recent call last)",
      "\u001b[1;32m<ipython-input-25-df7c6013f2f1>\u001b[0m in \u001b[0;36m<module>\u001b[1;34m()\u001b[0m\n\u001b[1;32m----> 1\u001b[1;33m \u001b[0mnp\u001b[0m\u001b[1;33m.\u001b[0m\u001b[0mconcatenate\u001b[0m\u001b[1;33m(\u001b[0m\u001b[1;33m(\u001b[0m\u001b[0ma\u001b[0m\u001b[1;33m,\u001b[0m \u001b[0mc\u001b[0m\u001b[1;33m)\u001b[0m\u001b[1;33m,\u001b[0m \u001b[0maxis\u001b[0m\u001b[1;33m=\u001b[0m\u001b[1;36m2\u001b[0m\u001b[1;33m)\u001b[0m\u001b[1;33m\u001b[0m\u001b[0m\n\u001b[0m\u001b[0;32m      2\u001b[0m \u001b[1;31m# they are 2D arrays so no axis=2\u001b[0m\u001b[1;33m\u001b[0m\u001b[1;33m\u001b[0m\u001b[0m\n",
      "\u001b[1;31mIndexError\u001b[0m: axis 2 out of bounds [0, 2)"
     ]
    }
   ],
   "source": [
    "np.concatenate((a, c), axis=2)\n",
    "# they are 2D arrays so no axis=2"
   ]
  },
  {
   "cell_type": "markdown",
   "metadata": {},
   "source": [
    "### Stack"
   ]
  },
  {
   "cell_type": "code",
   "execution_count": 32,
   "metadata": {
    "collapsed": false
   },
   "outputs": [
    {
     "data": {
      "text/plain": [
       "array([[[ 12.,  12.,  12.,  12.],\n",
       "        [ 12.,  12.,  12.,  12.],\n",
       "        [ 12.,  12.,  12.,  12.]],\n",
       "\n",
       "       [[  5.,   5.,   5.,   5.],\n",
       "        [  5.,   5.,   5.,   5.],\n",
       "        [  5.,   5.,   5.,   5.]],\n",
       "\n",
       "       [[ 10.,  10.,  10.,  10.],\n",
       "        [ 10.,  10.,  10.,  10.],\n",
       "        [ 10.,  10.,  10.,  10.]],\n",
       "\n",
       "       [[ 13.,  13.,  13.,  13.],\n",
       "        [ 13.,  13.,  13.,  13.],\n",
       "        [ 13.,  13.,  13.,  13.]],\n",
       "\n",
       "       [[  1.,   1.,   1.,   1.],\n",
       "        [  1.,   1.,   1.,   1.],\n",
       "        [  1.,   1.,   1.,   1.]]])"
      ]
     },
     "execution_count": 32,
     "metadata": {},
     "output_type": "execute_result"
    }
   ],
   "source": [
    "# we will create a list of five arrays, each with 3 rows and 4 columns\n",
    "arrays = np.zeros((5,3,4))\n",
    "for n in range(5):\n",
    "    arrays[n] = np.random.randint(0, 14)\n",
    "    # each element is populated with random integers from 1 to 10\n",
    "arrays"
   ]
  },
  {
   "cell_type": "code",
   "execution_count": 33,
   "metadata": {
    "collapsed": true
   },
   "outputs": [],
   "source": [
    "stack0 = np.stack(arrays, axis=0)\n",
    "stack1 = np.stack(arrays, axis=1)\n",
    "stack2 = np.stack(arrays, axis=2)"
   ]
  },
  {
   "cell_type": "code",
   "execution_count": 34,
   "metadata": {
    "collapsed": false
   },
   "outputs": [
    {
     "data": {
      "text/plain": [
       "array([[[ 12.,  12.,  12.,  12.],\n",
       "        [ 12.,  12.,  12.,  12.],\n",
       "        [ 12.,  12.,  12.,  12.]],\n",
       "\n",
       "       [[  5.,   5.,   5.,   5.],\n",
       "        [  5.,   5.,   5.,   5.],\n",
       "        [  5.,   5.,   5.,   5.]],\n",
       "\n",
       "       [[ 10.,  10.,  10.,  10.],\n",
       "        [ 10.,  10.,  10.,  10.],\n",
       "        [ 10.,  10.,  10.,  10.]],\n",
       "\n",
       "       [[ 13.,  13.,  13.,  13.],\n",
       "        [ 13.,  13.,  13.,  13.],\n",
       "        [ 13.,  13.,  13.,  13.]],\n",
       "\n",
       "       [[  1.,   1.,   1.,   1.],\n",
       "        [  1.,   1.,   1.,   1.],\n",
       "        [  1.,   1.,   1.,   1.]]])"
      ]
     },
     "execution_count": 34,
     "metadata": {},
     "output_type": "execute_result"
    }
   ],
   "source": [
    "# let's examine each of these stack variables\n",
    "stack0"
   ]
  },
  {
   "cell_type": "code",
   "execution_count": 35,
   "metadata": {
    "collapsed": false
   },
   "outputs": [
    {
     "data": {
      "text/plain": [
       "(5, 3, 4)"
      ]
     },
     "execution_count": 35,
     "metadata": {},
     "output_type": "execute_result"
    }
   ],
   "source": [
    "stack0.shape"
   ]
  },
  {
   "cell_type": "markdown",
   "metadata": {},
   "source": [
    "Stack0 contains all elements in the original array"
   ]
  },
  {
   "cell_type": "code",
   "execution_count": 36,
   "metadata": {
    "collapsed": false,
    "scrolled": true
   },
   "outputs": [
    {
     "data": {
      "text/plain": [
       "array([[[ 12.,  12.,  12.,  12.],\n",
       "        [  5.,   5.,   5.,   5.],\n",
       "        [ 10.,  10.,  10.,  10.],\n",
       "        [ 13.,  13.,  13.,  13.],\n",
       "        [  1.,   1.,   1.,   1.]],\n",
       "\n",
       "       [[ 12.,  12.,  12.,  12.],\n",
       "        [  5.,   5.,   5.,   5.],\n",
       "        [ 10.,  10.,  10.,  10.],\n",
       "        [ 13.,  13.,  13.,  13.],\n",
       "        [  1.,   1.,   1.,   1.]],\n",
       "\n",
       "       [[ 12.,  12.,  12.,  12.],\n",
       "        [  5.,   5.,   5.,   5.],\n",
       "        [ 10.,  10.,  10.,  10.],\n",
       "        [ 13.,  13.,  13.,  13.],\n",
       "        [  1.,   1.,   1.,   1.]]])"
      ]
     },
     "execution_count": 36,
     "metadata": {},
     "output_type": "execute_result"
    }
   ],
   "source": [
    "stack1"
   ]
  },
  {
   "cell_type": "code",
   "execution_count": 37,
   "metadata": {
    "collapsed": false
   },
   "outputs": [
    {
     "data": {
      "text/plain": [
       "(3, 5, 4)"
      ]
     },
     "execution_count": 37,
     "metadata": {},
     "output_type": "execute_result"
    }
   ],
   "source": [
    "stack1.shape"
   ]
  },
  {
   "cell_type": "markdown",
   "metadata": {},
   "source": [
    "stack1 contains three 2D arrays, each with 5 rows and 4 columns"
   ]
  },
  {
   "cell_type": "code",
   "execution_count": 38,
   "metadata": {
    "collapsed": false
   },
   "outputs": [
    {
     "data": {
      "text/plain": [
       "array([[[ 12.,   5.,  10.,  13.,   1.],\n",
       "        [ 12.,   5.,  10.,  13.,   1.],\n",
       "        [ 12.,   5.,  10.,  13.,   1.],\n",
       "        [ 12.,   5.,  10.,  13.,   1.]],\n",
       "\n",
       "       [[ 12.,   5.,  10.,  13.,   1.],\n",
       "        [ 12.,   5.,  10.,  13.,   1.],\n",
       "        [ 12.,   5.,  10.,  13.,   1.],\n",
       "        [ 12.,   5.,  10.,  13.,   1.]],\n",
       "\n",
       "       [[ 12.,   5.,  10.,  13.,   1.],\n",
       "        [ 12.,   5.,  10.,  13.,   1.],\n",
       "        [ 12.,   5.,  10.,  13.,   1.],\n",
       "        [ 12.,   5.,  10.,  13.,   1.]]])"
      ]
     },
     "execution_count": 38,
     "metadata": {},
     "output_type": "execute_result"
    }
   ],
   "source": [
    "stack2"
   ]
  },
  {
   "cell_type": "code",
   "execution_count": 39,
   "metadata": {
    "collapsed": false
   },
   "outputs": [
    {
     "data": {
      "text/plain": [
       "(3, 4, 5)"
      ]
     },
     "execution_count": 39,
     "metadata": {},
     "output_type": "execute_result"
    }
   ],
   "source": [
    "stack2.shape"
   ]
  },
  {
   "cell_type": "markdown",
   "metadata": {},
   "source": [
    "stack2 contains three 2D arrays, each with 4 rows and 5 columns"
   ]
  },
  {
   "cell_type": "markdown",
   "metadata": {},
   "source": [
    "### Split\n",
    "NumPy Split function separates arrays into two or more sub-arrays"
   ]
  },
  {
   "cell_type": "code",
   "execution_count": 40,
   "metadata": {
    "collapsed": false
   },
   "outputs": [
    {
     "data": {
      "text/plain": [
       "[array([0, 1, 2, 3, 4])]"
      ]
     },
     "execution_count": 40,
     "metadata": {},
     "output_type": "execute_result"
    }
   ],
   "source": [
    "# examine a boundary case\n",
    "# if the parameter in the split function is less than one, the function returns an error\n",
    "# if the parameter is equal to one, in this case, we are using the split function\n",
    "# with our temp array, the parameter is equal to one\n",
    "# it returns the original array\n",
    "temp = np.arange(5)\n",
    "np.split(temp, 1)"
   ]
  },
  {
   "cell_type": "code",
   "execution_count": 41,
   "metadata": {
    "collapsed": false
   },
   "outputs": [
    {
     "data": {
      "text/plain": [
       "(5, 3, 4)"
      ]
     },
     "execution_count": 41,
     "metadata": {},
     "output_type": "execute_result"
    }
   ],
   "source": [
    "before_split = stack0\n",
    "before_split.shape"
   ]
  },
  {
   "cell_type": "code",
   "execution_count": 42,
   "metadata": {
    "collapsed": false
   },
   "outputs": [
    {
     "data": {
      "text/plain": [
       "[array([[[ 12.,  12.,  12.,  12.],\n",
       "         [ 12.,  12.,  12.,  12.],\n",
       "         [ 12.,  12.,  12.,  12.]]]), array([[[ 5.,  5.,  5.,  5.],\n",
       "         [ 5.,  5.,  5.,  5.],\n",
       "         [ 5.,  5.,  5.,  5.]]]), array([[[ 10.,  10.,  10.,  10.],\n",
       "         [ 10.,  10.,  10.,  10.],\n",
       "         [ 10.,  10.,  10.,  10.]]]), array([[[ 13.,  13.,  13.,  13.],\n",
       "         [ 13.,  13.,  13.,  13.],\n",
       "         [ 13.,  13.,  13.,  13.]]]), array([[[ 1.,  1.,  1.,  1.],\n",
       "         [ 1.,  1.,  1.,  1.],\n",
       "         [ 1.,  1.,  1.,  1.]]])]"
      ]
     },
     "execution_count": 42,
     "metadata": {},
     "output_type": "execute_result"
    }
   ],
   "source": [
    "s0 = np.split(before_split, 5, axis=0)\n",
    "# split the array into five new arrays along the axis=0\n",
    "s0"
   ]
  },
  {
   "cell_type": "code",
   "execution_count": 43,
   "metadata": {
    "collapsed": false
   },
   "outputs": [
    {
     "data": {
      "text/plain": [
       "list"
      ]
     },
     "execution_count": 43,
     "metadata": {},
     "output_type": "execute_result"
    }
   ],
   "source": [
    "type(s0)"
   ]
  },
  {
   "cell_type": "code",
   "execution_count": 44,
   "metadata": {
    "collapsed": false
   },
   "outputs": [
    {
     "data": {
      "text/plain": [
       "array([[[ 5.,  5.,  5.,  5.],\n",
       "        [ 5.,  5.,  5.,  5.],\n",
       "        [ 5.,  5.,  5.,  5.]]])"
      ]
     },
     "execution_count": 44,
     "metadata": {},
     "output_type": "execute_result"
    }
   ],
   "source": [
    "# each component within s0 is a 2D array with 3 rows and 4 columns\n",
    "s0[1]"
   ]
  },
  {
   "cell_type": "code",
   "execution_count": 45,
   "metadata": {
    "collapsed": false
   },
   "outputs": [
    {
     "data": {
      "text/plain": [
       "(1, 3, 4)"
      ]
     },
     "execution_count": 45,
     "metadata": {},
     "output_type": "execute_result"
    }
   ],
   "source": [
    "s0[1].shape\n",
    "# one 2D array which has 3 rows and 4 columns"
   ]
  },
  {
   "cell_type": "code",
   "execution_count": 46,
   "metadata": {
    "collapsed": false
   },
   "outputs": [
    {
     "data": {
      "text/plain": [
       "[array([[[ 12.,  12.,  12.,  12.]],\n",
       " \n",
       "        [[  5.,   5.,   5.,   5.]],\n",
       " \n",
       "        [[ 10.,  10.,  10.,  10.]],\n",
       " \n",
       "        [[ 13.,  13.,  13.,  13.]],\n",
       " \n",
       "        [[  1.,   1.,   1.,   1.]]]), array([[[ 12.,  12.,  12.,  12.]],\n",
       " \n",
       "        [[  5.,   5.,   5.,   5.]],\n",
       " \n",
       "        [[ 10.,  10.,  10.,  10.]],\n",
       " \n",
       "        [[ 13.,  13.,  13.,  13.]],\n",
       " \n",
       "        [[  1.,   1.,   1.,   1.]]]), array([[[ 12.,  12.,  12.,  12.]],\n",
       " \n",
       "        [[  5.,   5.,   5.,   5.]],\n",
       " \n",
       "        [[ 10.,  10.,  10.,  10.]],\n",
       " \n",
       "        [[ 13.,  13.,  13.,  13.]],\n",
       " \n",
       "        [[  1.,   1.,   1.,   1.]]])]"
      ]
     },
     "execution_count": 46,
     "metadata": {},
     "output_type": "execute_result"
    }
   ],
   "source": [
    "# try split along axis=1\n",
    "s1 = np.split(before_split, 3, axis=1)\n",
    "s1"
   ]
  },
  {
   "cell_type": "code",
   "execution_count": 47,
   "metadata": {
    "collapsed": false
   },
   "outputs": [
    {
     "data": {
      "text/plain": [
       "[array([[[ 12.],\n",
       "         [ 12.],\n",
       "         [ 12.]],\n",
       " \n",
       "        [[  5.],\n",
       "         [  5.],\n",
       "         [  5.]],\n",
       " \n",
       "        [[ 10.],\n",
       "         [ 10.],\n",
       "         [ 10.]],\n",
       " \n",
       "        [[ 13.],\n",
       "         [ 13.],\n",
       "         [ 13.]],\n",
       " \n",
       "        [[  1.],\n",
       "         [  1.],\n",
       "         [  1.]]]), array([[[ 12.],\n",
       "         [ 12.],\n",
       "         [ 12.]],\n",
       " \n",
       "        [[  5.],\n",
       "         [  5.],\n",
       "         [  5.]],\n",
       " \n",
       "        [[ 10.],\n",
       "         [ 10.],\n",
       "         [ 10.]],\n",
       " \n",
       "        [[ 13.],\n",
       "         [ 13.],\n",
       "         [ 13.]],\n",
       " \n",
       "        [[  1.],\n",
       "         [  1.],\n",
       "         [  1.]]]), array([[[ 12.],\n",
       "         [ 12.],\n",
       "         [ 12.]],\n",
       " \n",
       "        [[  5.],\n",
       "         [  5.],\n",
       "         [  5.]],\n",
       " \n",
       "        [[ 10.],\n",
       "         [ 10.],\n",
       "         [ 10.]],\n",
       " \n",
       "        [[ 13.],\n",
       "         [ 13.],\n",
       "         [ 13.]],\n",
       " \n",
       "        [[  1.],\n",
       "         [  1.],\n",
       "         [  1.]]]), array([[[ 12.],\n",
       "         [ 12.],\n",
       "         [ 12.]],\n",
       " \n",
       "        [[  5.],\n",
       "         [  5.],\n",
       "         [  5.]],\n",
       " \n",
       "        [[ 10.],\n",
       "         [ 10.],\n",
       "         [ 10.]],\n",
       " \n",
       "        [[ 13.],\n",
       "         [ 13.],\n",
       "         [ 13.]],\n",
       " \n",
       "        [[  1.],\n",
       "         [  1.],\n",
       "         [  1.]]])]"
      ]
     },
     "execution_count": 47,
     "metadata": {},
     "output_type": "execute_result"
    }
   ],
   "source": [
    "# try split along axis=2\n",
    "s2 = np.split(before_split, 4, axis=2)\n",
    "s2\n",
    "# you get a list of 4 new arrays"
   ]
  },
  {
   "cell_type": "code",
   "execution_count": 48,
   "metadata": {
    "collapsed": false
   },
   "outputs": [
    {
     "data": {
      "text/plain": [
       "(5, 3, 1)"
      ]
     },
     "execution_count": 48,
     "metadata": {},
     "output_type": "execute_result"
    }
   ],
   "source": [
    "s2[1].shape"
   ]
  }
 ],
 "metadata": {
  "anaconda-cloud": {},
  "kernelspec": {
   "display_name": "Python [conda root]",
   "language": "python",
   "name": "conda-root-py"
  },
  "language_info": {
   "codemirror_mode": {
    "name": "ipython",
    "version": 3
   },
   "file_extension": ".py",
   "mimetype": "text/x-python",
   "name": "python",
   "nbconvert_exporter": "python",
   "pygments_lexer": "ipython3",
   "version": "3.5.2"
  }
 },
 "nbformat": 4,
 "nbformat_minor": 0
}
