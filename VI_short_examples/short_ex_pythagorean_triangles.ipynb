{
 "cells": [
  {
   "cell_type": "markdown",
   "metadata": {},
   "source": [
    "## Lynda.com\n",
    "numpy essential training: short example - pythagorean triangles"
   ]
  },
  {
   "cell_type": "code",
   "execution_count": 1,
   "metadata": {
    "collapsed": true
   },
   "outputs": [],
   "source": [
    "import numpy as np"
   ]
  },
  {
   "cell_type": "code",
   "execution_count": 2,
   "metadata": {
    "collapsed": true
   },
   "outputs": [],
   "source": [
    "def is_integer(x):\n",
    "    return np.equal(np.mod(x, 1), 0)"
   ]
  },
  {
   "cell_type": "code",
   "execution_count": 3,
   "metadata": {
    "collapsed": true
   },
   "outputs": [],
   "source": [
    "numpy_is_integer = np.frompyfunc(is_integer, 1, 1)"
   ]
  },
  {
   "cell_type": "markdown",
   "metadata": {},
   "source": [
    "\\begin{equation*}\n",
    "X^n + Y^n = Z^n\n",
    "\\end{equation*}"
   ]
  },
  {
   "cell_type": "markdown",
   "metadata": {},
   "source": [
    "\\begin{equation*}\n",
    "X^2 + Y^2 = Z^2\n",
    "\\end{equation*}"
   ]
  },
  {
   "cell_type": "markdown",
   "metadata": {},
   "source": [
    "The French mathematician Fermat conjectured in the 17th Century that there are no solutions, that is, there are no integer solutions to this equation."
   ]
  },
  {
   "cell_type": "markdown",
   "metadata": {},
   "source": [
    "Professor Wiles from Princeton University proved in 1995 that Fermat's conjecture is correct. A much simpler expression than Fermat's conjecture sets the exponent to two. This equation yields the familiar Pythagorean triangles. "
   ]
  },
  {
   "cell_type": "markdown",
   "metadata": {},
   "source": [
    "Pythagorean triples are Pythagorean triangles, where x, y, and z are integers. We will use numpy to find some pythagorean triples. "
   ]
  },
  {
   "cell_type": "code",
   "execution_count": 6,
   "metadata": {
    "collapsed": false
   },
   "outputs": [
    {
     "data": {
      "text/plain": [
       "array([[False, False, False, False, False, False, False, False, False],\n",
       "       [False, False, False, False, False, False, False, False, False],\n",
       "       [False, False, False, True, False, False, False, False, False],\n",
       "       [False, False, True, False, False, False, False, False, False],\n",
       "       [False, False, False, False, False, False, False, False, False],\n",
       "       [False, False, False, False, False, False, False, True, False],\n",
       "       [False, False, False, False, False, False, False, False, False],\n",
       "       [False, False, False, False, False, True, False, False, False],\n",
       "       [False, False, False, False, False, False, False, False, False]], dtype=object)"
      ]
     },
     "execution_count": 6,
     "metadata": {},
     "output_type": "execute_result"
    }
   ],
   "source": [
    "number_of_triangles = 9 \n",
    "# the number of triangles we will search to find triangles with integer values\n",
    "\n",
    "# create arrays that represent the base and height of these triangles\n",
    "# +1 because python is zero-based indexing -- we are not interested in triangle with zero base/height\n",
    "base = np.arange(number_of_triangles) + 1\n",
    "height = np.arange(number_of_triangles) + 1\n",
    "\n",
    "# https://docs.scipy.org/doc/numpy/reference/generated/numpy.ufunc.outer.html\n",
    "hypotenuse_squared = np.add.outer(base ** 2, height ** 2)\n",
    "hypotenuse = np.sqrt(hypotenuse_squared)\n",
    "\n",
    "numpy_is_integer(hypotenuse)"
   ]
  },
  {
   "cell_type": "markdown",
   "metadata": {},
   "source": [
    "Most triangles do not have integer values. In Row 3 and Column 4 we have a true. It is the 3-4-5 right triangle.\n",
    "\n",
    "Without using the trial-and-error method, you can use the formula below\n",
    "\n",
    "for m and n positive integers, and m > n,\n",
    "\n",
    "\\begin{equation*}\n",
    "X = m^2 - n^2;  \n",
    "Y = 2mn;  \n",
    "Z = m^2 + n^2\n",
    "\\end{equation*}"
   ]
  }
 ],
 "metadata": {
  "anaconda-cloud": {},
  "kernelspec": {
   "display_name": "Python [conda root]",
   "language": "python",
   "name": "conda-root-py"
  },
  "language_info": {
   "codemirror_mode": {
    "name": "ipython",
    "version": 3
   },
   "file_extension": ".py",
   "mimetype": "text/x-python",
   "name": "python",
   "nbconvert_exporter": "python",
   "pygments_lexer": "ipython3",
   "version": "3.5.2"
  }
 },
 "nbformat": 4,
 "nbformat_minor": 0
}
